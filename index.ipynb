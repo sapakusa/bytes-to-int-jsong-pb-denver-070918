{
 "cells": [
  {
   "cell_type": "markdown",
   "metadata": {},
   "source": [
    "# Bytes to Int & more Python tips and tricks"
   ]
  },
  {
   "cell_type": "markdown",
   "metadata": {},
   "source": [
    "### Useful Python 3 Idioms\n",
    "\n",
    "You can reverse a list by using `[::-1]`:\n",
    "\n",
    "```python\n",
    "a = [1, 2, 3, 4, 5]\n",
    "print(a[::-1]) # [5, 4, 3, 2, 1]\n",
    "```\n",
    "\n",
    "Also works on both strings and bytes:\n",
    "\n",
    "```python\n",
    "s = 'hello world'\n",
    "print(s[::-1]) # 'dlrow olleh'\n",
    "b = b'hello world'\n",
    "print(b[::-1]) # b'dlrow olleh'\n",
    "```\n",
    "\n",
    "Indexing bytes will get you the numerical value:\n",
    "\n",
    "```python\n",
    "print(b'&'[0]) # 38 since & charcter #38\n",
    "```\n",
    "\n",
    "You can do the reverse by using bytes:\n",
    "\n",
    "```python\n",
    "print(bytes([38])) # b'&'\n",
    "```"
   ]
  },
  {
   "cell_type": "markdown",
   "metadata": {},
   "source": [
    "### Try it"
   ]
  },
  {
   "cell_type": "code",
   "execution_count": 11,
   "metadata": {},
   "outputs": [
    {
     "name": "stdout",
     "output_type": "stream",
     "text": [
      "[5, 4, 3, 2, 1]\n",
      "dlrow olleh\n",
      "b'dlrow olleh'\n",
      "38\n",
      "b'&'\n"
     ]
    }
   ],
   "source": [
    "a = [1, 2, 3, 4, 5]\n",
    "print(a[::-1]) # [5, 4, 3, 2, 1]\n",
    "\n",
    "s = 'hello world'\n",
    "print(s[::-1]) # 'dlrow olleh'\n",
    "b = b'hello world'\n",
    "print(b[::-1]) # b'dlrow olleh'\n",
    "\n",
    "print(b'&'[0]) # 38 since & charcter #38\n",
    "\n",
    "print(bytes([38])) # b'&'"
   ]
  },
  {
   "cell_type": "markdown",
   "metadata": {},
   "source": [
    "### Python Tricks\n",
    "\n",
    "Here is how we convert binary to/from hex:"
   ]
  },
  {
   "cell_type": "code",
   "execution_count": 12,
   "metadata": {},
   "outputs": [
    {
     "name": "stdout",
     "output_type": "stream",
     "text": [
      "68656c6c6f20776f726c64\n",
      "b'hello world'\n"
     ]
    }
   ],
   "source": [
    "print(b'hello world'.hex())\n",
    "print(bytes.fromhex('68656c6c6f20776f726c64'))"
   ]
  },
  {
   "cell_type": "markdown",
   "metadata": {},
   "source": [
    "### Try it\n",
    "\n",
    "Reverse this hex dump: `b010a49c82b4bc84cc1dfd6e09b2b8114d016041efaf591eca88959e327dd29a`\n",
    "\n",
    "Hint: you'll want to turn this into binary data, reverse and turn it into hex again"
   ]
  },
  {
   "cell_type": "code",
   "execution_count": 13,
   "metadata": {},
   "outputs": [],
   "source": [
    "h = 'b010a49c82b4bc84cc1dfd6e09b2b8114d016041efaf591eca88959e327dd29a'\n",
    "\n",
    "# convert to binary (bytes.fromhex)\n",
    "# reverse ([::-1])\n",
    "# convert to hex()"
   ]
  },
  {
   "cell_type": "markdown",
   "metadata": {},
   "source": [
    "## Converting from bytes to int and back\n",
    "\n",
    "Converting from bytes to integer requires learning about Big and Little Endian encoding. Essentially any number greater than 255 can be encoded in two ways, with the \"Big End\" going first or the \"Little End\" going first.\n",
    "\n",
    "Normal human reading is from the \"Big End\". For example 123 is read as 100 + 20 + 3. Some computer systems encode integers with the \"Little End\" first.\n",
    "\n",
    "A number like 500 is encoded this way in Big Endian:\n",
    "\n",
    "0x01f4 (256 + 244)\n",
    "\n",
    "But this way in Little Endian:\n",
    "\n",
    "0xf401 (244 + 256)\n",
    "\n",
    "In Python we can convert an integer to big or little endian using a built-in method:\n",
    "\n",
    "```python\n",
    "n = 1234567890\n",
    "big_endian = n.to_bytes(4, 'big')  # b'\\x49\\x96\\x02\\xd2'\n",
    "little_endian = n.to_bytes(4, 'little')  # b'\\xd2\\x02\\x96\\x49'\n",
    "```\n",
    "\n",
    "We can also convert from bytes to an integer this way:\n",
    "\n",
    "```python\n",
    "big_endian = b'\\x49\\x96\\x02\\xd2'\n",
    "n = int.from_bytes(big_endian, 'big')  # 1234567890\n",
    "little_endian = b'\\xd2\\x02\\x96\\x49'\n",
    "n = int.from_bytes(little_endian, 'little')  # 1234567890\n",
    "```"
   ]
  },
  {
   "cell_type": "code",
   "execution_count": 4,
   "metadata": {},
   "outputs": [
    {
     "name": "stdout",
     "output_type": "stream",
     "text": [
      "499602d2\n",
      "d2029649\n",
      "1234567890\n",
      "1234567890\n"
     ]
    }
   ],
   "source": [
    "n = 1234567890\n",
    "big_endian = n.to_bytes(4, 'big')\n",
    "little_endian = n.to_bytes(4, 'little')\n",
    "\n",
    "print(big_endian.hex())\n",
    "print(little_endian.hex())\n",
    "\n",
    "print(int.from_bytes(big_endian, 'big'))\n",
    "print(int.from_bytes(little_endian, 'little'))"
   ]
  },
  {
   "cell_type": "markdown",
   "metadata": {},
   "source": [
    "### Try it\n",
    "\n",
    "Convert the following:\n",
    "\n",
    " * 8675309 to 8 bytes in big endian\n",
    " * interpret ```b'\\x11\\x22\\x33\\x44\\x55'``` as a little endian integer"
   ]
  },
  {
   "cell_type": "code",
   "execution_count": 9,
   "metadata": {},
   "outputs": [
    {
     "name": "stdout",
     "output_type": "stream",
     "text": [
      "b'\\x00\\x84_\\xed'\n",
      "366216421905\n"
     ]
    }
   ],
   "source": [
    "n = 8675309\n",
    "b = n.to_bytes(4, 'big')\n",
    "print(b)\n",
    "# print n in 8 big endian bytes\n",
    "\n",
    "little_endian = b'\\x11\\x22\\x33\\x44\\x55'\n",
    "print(int.from_bytes(little_endian, 'little'))\n",
    "# print little endian in decimal"
   ]
  },
  {
   "cell_type": "markdown",
   "metadata": {},
   "source": [
    "### Test Driven Exercise\n",
    "\n",
    "Add `little_endian_to_int()` and `int_to_little_endian()` methods to your library."
   ]
  },
  {
   "cell_type": "code",
   "execution_count": 10,
   "metadata": {},
   "outputs": [],
   "source": [
    "def little_endian_to_int(b):\n",
    "    '''little_endian_to_int takes byte sequence as a little-endian number.\n",
    "    Returns an integer'''\n",
    "    return int.from_bytes(b, 'little')\n",
    "    # use the from_bytes method of int\n",
    "    #pass\n",
    "\n",
    "def int_to_little_endian(n, length):\n",
    "    '''endian_to_little_endian takes an integer and returns the little-endian\n",
    "    byte sequence of length'''\n",
    "    # use the to_bytes method of n\n",
    "    return n.to_bytes(length, 'little')\n",
    "    #pass"
   ]
  },
  {
   "cell_type": "code",
   "execution_count": null,
   "metadata": {},
   "outputs": [],
   "source": []
  }
 ],
 "metadata": {
  "kernelspec": {
   "display_name": "Python 3",
   "language": "python",
   "name": "python3"
  },
  "language_info": {
   "codemirror_mode": {
    "name": "ipython",
    "version": 3
   },
   "file_extension": ".py",
   "mimetype": "text/x-python",
   "name": "python",
   "nbconvert_exporter": "python",
   "pygments_lexer": "ipython3",
   "version": "3.6.4"
  }
 },
 "nbformat": 4,
 "nbformat_minor": 2
}
